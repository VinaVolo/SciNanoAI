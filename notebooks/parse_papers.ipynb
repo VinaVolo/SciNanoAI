{
 "cells": [
  {
   "cell_type": "code",
   "execution_count": 1,
   "metadata": {},
   "outputs": [],
   "source": [
    "import os\n",
    "import sys\n",
    "sys.path.append('..')\n",
    "from unstructured_ingest.v2.pipeline.pipeline import Pipeline\n",
    "from unstructured_ingest.v2.interfaces import ProcessorConfig\n",
    "from unstructured_ingest.v2.processes.connectors.local import (\n",
    "    LocalIndexerConfig,\n",
    "    LocalDownloaderConfig,\n",
    "    LocalConnectionConfig,\n",
    "    LocalUploaderConfig\n",
    ")\n",
    "from unstructured_ingest.v2.processes.partitioner import PartitionerConfig\n",
    "from src.utils.paths import get_project_path"
   ]
  },
  {
   "cell_type": "code",
   "execution_count": null,
   "metadata": {},
   "outputs": [],
   "source": [
    "def local_parse_data(directory_with_pdfs: str, directory_with_results: str):\n",
    "    \n",
    "    pdf_files = []\n",
    "    for root, dirs, files in os.walk(directory_with_pdfs):\n",
    "        for file in files:\n",
    "            if file.endswith('.pdf'):\n",
    "                pdf_files.append(os.path.join(root, file))\n",
    "\n",
    "    for pdf_file in pdf_files:\n",
    "        Pipeline.from_configs(\n",
    "            context=ProcessorConfig(\n",
    "                tqdm=True,\n",
    "                num_processes=30,\n",
    "                device=\"cuda\"\n",
    "            ),\n",
    "            indexer_config=LocalIndexerConfig(input_path=pdf_file),\n",
    "            downloader_config=LocalDownloaderConfig(),\n",
    "            source_connection_config=LocalConnectionConfig(),\n",
    "            partitioner_config=PartitionerConfig(\n",
    "                strategy=\"ocr_only\",\n",
    "                languages=[\"eng\", \"rus\"],\n",
    "                additional_partition_args={\n",
    "                    \"preserve_formatting\": True,\n",
    "                    \"split_pdf_page\": True,\n",
    "                    \"split_pdf_concurrency_level\": 15,\n",
    "                    \"include_page_breaks\": True,\n",
    "                    \"max_partition\": 1500\n",
    "                    },\n",
    "                ),\n",
    "            uploader_config=LocalUploaderConfig(output_dir=directory_with_results)\n",
    "        ).run()"
   ]
  },
  {
   "cell_type": "code",
   "execution_count": null,
   "metadata": {},
   "outputs": [],
   "source": [
    "directory_with_pdfs = os.path.join(get_project_path(), 'data', 'Статьи для базы данных')\n",
    "directory_with_results = os.path.join(get_project_path(), 'data', 'parsed_pages')\n",
    "\n",
    "local_parse_data(directory_with_pdfs, directory_with_results)"
   ]
  }
 ],
 "metadata": {
  "kernelspec": {
   "display_name": "venv",
   "language": "python",
   "name": "python3"
  },
  "language_info": {
   "codemirror_mode": {
    "name": "ipython",
    "version": 3
   },
   "file_extension": ".py",
   "mimetype": "text/x-python",
   "name": "python",
   "nbconvert_exporter": "python",
   "pygments_lexer": "ipython3",
   "version": "3.12.3"
  }
 },
 "nbformat": 4,
 "nbformat_minor": 2
}
